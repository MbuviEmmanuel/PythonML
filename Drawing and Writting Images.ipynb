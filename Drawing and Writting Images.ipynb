{
 "cells": [
  {
   "cell_type": "code",
   "execution_count": 1,
   "metadata": {},
   "outputs": [],
   "source": [
    "import cv2\n",
    "import numpy as np"
   ]
  },
  {
   "cell_type": "code",
   "execution_count": 8,
   "metadata": {},
   "outputs": [],
   "source": [
    "img = cv2.imread('watch.jpg', cv2.IMREAD_COLOR) \n",
    "\n",
    "cv2.line(img, (0,0) , (150,150), (255,255,255), 15) #Drawing a line on a pic\n",
    "cv2.rectangle(img, (15,25), (200,500),(0,255,0), 5) #Drawing a rectangle on a picture\n",
    "cv2.circle(img, (100, 63), 55, (0,0,255), -1) # Drawing a circle around an image\n",
    "\n",
    "pts  =  np.array([[10,5], [20,30], [70,20], [50,10]], np.int32)# drawing a polygon on an image\n",
    "#pts = pts.reshape(-1, 1,2)\n",
    "cv2.polylines(img, [pts], True, (0,255,255), 3)\n",
    "\n",
    "# Writing a sentence on a picture\n",
    "font = cv2.FONT_HERSHEY_SIMPLEX\n",
    "cv2.putText(img, 'OpenCV Tuts!', (0,130), font, 1, (200,255,255), 2, cv2.LINE_AA)\n",
    "\n",
    "cv2.imshow('image', img) \n",
    "cv2.waitKey(0)\n",
    "cv2.destroyAllWindows()"
   ]
  },
  {
   "cell_type": "code",
   "execution_count": null,
   "metadata": {},
   "outputs": [],
   "source": []
  }
 ],
 "metadata": {
  "kernelspec": {
   "display_name": "Python 3",
   "language": "python",
   "name": "python3"
  },
  "language_info": {
   "codemirror_mode": {
    "name": "ipython",
    "version": 3
   },
   "file_extension": ".py",
   "mimetype": "text/x-python",
   "name": "python",
   "nbconvert_exporter": "python",
   "pygments_lexer": "ipython3",
   "version": "3.6.5"
  }
 },
 "nbformat": 4,
 "nbformat_minor": 2
}
